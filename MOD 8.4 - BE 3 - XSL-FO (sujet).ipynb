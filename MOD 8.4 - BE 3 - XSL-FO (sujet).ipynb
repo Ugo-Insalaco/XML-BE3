{
 "cells": [
  {
   "cell_type": "markdown",
   "metadata": {},
   "source": [
    "# <center>MOD 8.4 - Représentation et manipulation de données structurées - BE 3</center>\n",
    "\n",
    "## <center style=\"color: #66d\">Transformation XSLT, format XSL-FO, et document pdf.</center>\n",
    "\n",
    "### 1. Informations générales\n",
    "\n",
    "#### 1.1 Déroulement de la séance\n",
    "\n",
    "Comme pour les séances précédentes, ce travail est à effectuer par binômes. Les binômes peuvent être les mêmes que pour l'un des BE précédents ou être recomposés pour l'occasion.\n",
    "\n",
    "Les livrables qui vous seront demandés pour ce BE devront encore une fois être zippés _(format zip uniquement - toujours pas de formats de compression exotiques)_ et déposés sur la plateforme pédagogique dans la zone de rendu, dans l'espace réservé au BE n°3 sur le serveur moodle.\n",
    "\n",
    "#### 1.2 Compte-rendu\n",
    "\n",
    "Le compte-rendu sera fait comme d'habitude au format jupyter notebook.\n",
    "Il devra évidemment comporter tous les liens nécessaires pour consulter les documents réalisés _(cf. questions suivantes)_ sous tous les aspects pertinents _(code source, validation, transformation...)_. Seuls les documents accessibles sous forme de liens depuis le compte-rendu seront pris en compte lors de la correction.\n",
    "\n",
    "#### 1.3 Forme des documents produits.\n",
    "\n",
    "Le degré de finition des documents demandés devra correspondre à des standards professionnels."
   ]
  },
  {
   "cell_type": "markdown",
   "metadata": {},
   "source": [
    "### 2. Prise en main de XSL-FO et installation de Apache fop\n",
    "\n",
    "Le travail demandé au cours de ce BE consiste à transformer les documents XML fournis pour obtenir d'abord un document XSL-FO à l'aide d'une feuille de style XSLT, puis un rapport papier au format <tt>pdf</tt> à l'aide de l'outil \"fop\" (Apache Formatting Objects Processor).\n",
    "\n",
    "#### 2.1 Prise en main de XSL-FO.\n",
    "\n",
    "Consulter le <a href=\"http://dmolinarius.github.io/demofiles/mod-84/xslfo.pdf\">cours sur XSL-FO</a>, puis :\n",
    "\n",
    "__Q1. Développer une première feuille de style XSL-FO :__\n",
    "<div style=\"background-color:#d8d8ff;padding:10px;border-radius:3px\">\n",
    "Créer une feuille de style XSLT nommée <a href=\"question-1.xsl\"><tt>question-1.xsl</tt></a> qui transforme n'importe quel document XML en un document XSL-FO (toujours le même, quel que soit le contenu du document XML transformé) contenant le message \"hello, world\".\n",
    "</div>"
   ]
  },
  {
   "cell_type": "markdown",
   "metadata": {},
   "source": [
    "\n",
    "__Q2. Créer un premier document XSL-FO :__\n",
    "<div style=\"background-color:#d8d8ff;padding:10px;border-radius:3px\">\n",
    "Implémenter la transformation XSLT d'un document XML via votre feuille de style, à l'aide d'un programme de votre choix (suggestion : python via le présent notebook) et admirer le résultat obtenu dans un fichier qui sera nommé <a href=\"question-1.fo\"><tt>question-1.fo</tt></a>\n",
    "</div>"
   ]
  },
  {
   "cell_type": "code",
   "execution_count": 1,
   "metadata": {
    "util.bundle": "correcteur"
   },
   "outputs": [],
   "source": [
    "import lxml.etree as etree\n",
    "from io import StringIO as StringIO"
   ]
  },
  {
   "cell_type": "code",
   "execution_count": 2,
   "metadata": {},
   "outputs": [],
   "source": [
    "def use_template(file_name, params = {}):\n",
    "    xsl_template = \"\"\n",
    "    xsl = f\"{file_name}.xsl\"\n",
    "    fo = f\"{file_name}.fo\"\n",
    "    \n",
    "    with open(xsl, newline = '', encoding = 'UTF-8') as f:\n",
    "        xsl_template = f.read()\n",
    "\n",
    "    xslt_root = etree.XML(bytes(xsl_template, \"utf-8\"))\n",
    "\n",
    "    with open(\"./regularite-mensuelle-tgv.xml\", newline = '', encoding = 'UTF-8') as f:\n",
    "        xml_file = f.read()\n",
    "\n",
    "    transform = etree.XSLT(xslt_root)\n",
    "    xml_parsed = etree.parse(StringIO(xml_file))\n",
    "    \n",
    "    for (key, value) in params.items():\n",
    "        params[key] = etree.XSLT.strparam(value)\n",
    "        \n",
    "    fo_file = transform(xml_parsed, **params)\n",
    "    fo_file.write_output(fo) "
   ]
  },
  {
   "cell_type": "code",
   "execution_count": 23,
   "metadata": {},
   "outputs": [],
   "source": [
    "use_template(\"question-1\")"
   ]
  },
  {
   "cell_type": "markdown",
   "metadata": {},
   "source": [
    "#### 2.2 Installation et utilisation de Apache FOP.\n",
    "\n",
    "__Q3. Obtenir un document pdf :__\n",
    "<div style=\"background-color:#eef;padding:10px;border-radius:3px\">\n",
    "Installer <a href=\"https://xmlgraphics.apache.org/fop/\">Apache FOP</a> et transformer le document <tt>question-1.fo</tt> pour obtenir <a href=\"question-1.pdf\"><tt>question-1.pdf</tt></a>.\n",
    "</div>\n",
    "\n",
    "Exemple de fonction réalisant la transformation depuis le notebook :"
   ]
  },
  {
   "cell_type": "code",
   "execution_count": 3,
   "metadata": {},
   "outputs": [
    {
     "name": "stdout",
     "output_type": "stream",
     "text": [
      "nov. 28, 2022 5:36:53 PM org.apache.fop.apps.FopConfParser configure\r\n",
      "INFOS: Default page-height set to: 11.00in\r\n",
      "nov. 28, 2022 5:36:53 PM org.apache.fop.apps.FopConfParser configure\r\n",
      "INFOS: Default page-width set to: 8.50in\r\n",
      "nov. 28, 2022 5:36:54 PM org.apache.fop.events.LoggingEventListener processEvent\r\n",
      "INFOS: Rendered page #1.\r\n",
      "\n"
     ]
    }
   ],
   "source": [
    "# fonction pour lancer la transformation fop\n",
    "def run_fop(filename):\n",
    "    import sys\n",
    "    import os.path\n",
    "    import subprocess\n",
    "\n",
    "    # nom des fichiers\n",
    "    fo = \"{}.fo\".format(filename)\n",
    "    pdf =\"{}.pdf\".format(filename)\n",
    "\n",
    "    # le fichier .fo n'existe pas\n",
    "    if not os.path.isfile(fo):\n",
    "        print(\"Could not find {}\".format(fo))\n",
    "        return None\n",
    "\n",
    "    # appel de fop (ajuster éventuellement le chemin d'accès à l'exécutable et au fichier de configuration)\n",
    "    args = [\"fop\", \"-c\", \"C:\\Program Files (x86)\\\\fop-2.8\\\\fop\\\\conf\\\\fop.xconf\", fo, pdf]\n",
    "    return subprocess.run(args,shell=True,stderr=subprocess.PIPE)\n",
    "    \n",
    "# On effectue la transformation\n",
    "r = run_fop('question-1')\n",
    "print(r.stderr.decode('iso-8859-1'))"
   ]
  },
  {
   "cell_type": "code",
   "execution_count": 11,
   "metadata": {},
   "outputs": [
    {
     "name": "stdout",
     "output_type": "stream",
     "text": [
      "FOP Version 2.8\n"
     ]
    }
   ],
   "source": [
    "# Test si fop est bien installé, et que l'interpréteur de commandes sait où le trouver\n",
    "!fop -version"
   ]
  },
  {
   "cell_type": "code",
   "execution_count": 12,
   "metadata": {},
   "outputs": [
    {
     "name": "stderr",
     "output_type": "stream",
     "text": [
      "nov. 28, 2022 3:47:59 PM org.apache.fop.events.LoggingEventListener processEvent\n",
      "INFOS: Rendered page #1.\n"
     ]
    }
   ],
   "source": [
    "# Méthode alternative pour lancer fop\n",
    "!fop question-1.fo question-1.pdf"
   ]
  },
  {
   "cell_type": "markdown",
   "metadata": {},
   "source": [
    "### 3. Création d'un rapport\n",
    "\n",
    "Maintenant que la chaîne de production est maîtrisée, l'objectif sera de créer un rapport au format <tt>pdf</tt>, à partir \n",
    "du document <a href=\"regularite-mensuelle-tgv.xml\"><tt>regularite-mensuelle-tgv.xml</tt></a> fourni avec le sujet, dont la structure générale est la suivante :"
   ]
  },
  {
   "cell_type": "raw",
   "metadata": {},
   "source": [
    "<regularite-tgv>\n",
    "  <axe nom=\"Nord\">\n",
    "    <gare-depart nom=\"PARIS NORD\">\n",
    "      <gare-arrivee nom=\"DOUAI\">\n",
    "        <mesure annee=\"2014\" mois=\"03\" trains-prevus=\"196\" trains-ok=\"196\" annules=\"0\" retards=\"11\" regularite=\"94.4\" commentaire=\"\"/>\n",
    "        ...\n",
    "      </gare-arrivee>\n",
    "      ...\n",
    "    </gare-depart>\n",
    "    ...\n",
    "  </axe>\n",
    "</regularite-tgv>\n",
    "      \n",
    "        "
   ]
  },
  {
   "cell_type": "markdown",
   "metadata": {},
   "source": [
    "__Q4. Liste des axes :__\n",
    "<div style=\"background-color:#eef;padding:10px;border-radius:3px\">\n",
    "Développer une feuille de style XSL qui transforme ce document de manière à obtenir un document <tt>pdf</tt> listant le nom des axes sous forme de titres.\n",
    "</div>\n",
    "\n",
    "On nommera respectivement les documents demandés\n",
    "<a href=\"question-4.xsl\"><tt>question-4.xsl</tt></a>,\n",
    "<a href=\"question-4.fo\"><tt>question-4.fo</tt></a> et\n",
    "<a href=\"question-4.pdf\"><tt>question-4.pdf</tt></a>."
   ]
  },
  {
   "cell_type": "code",
   "execution_count": 21,
   "metadata": {
    "scrolled": false,
    "util.bundle": "correcteur"
   },
   "outputs": [
    {
     "data": {
      "text/plain": [
       "CompletedProcess(args=['fop', '-c', 'C:\\\\Program Files (x86)\\\\fop-2.8\\\\fop\\\\conf\\\\fop.xconf', 'question-4.fo', 'question-4.pdf'], returncode=0, stderr=b'nov. 28, 2022 4:16:08 PM org.apache.fop.apps.FopConfParser configure\\r\\nINFOS: Default page-height set to: 11.00in\\r\\nnov. 28, 2022 4:16:08 PM org.apache.fop.apps.FopConfParser configure\\r\\nINFOS: Default page-width set to: 8.50in\\r\\nnov. 28, 2022 4:16:09 PM org.apache.fop.events.LoggingEventListener processEvent\\r\\nAVERTISSEMENT: Font \"Symbol,normal,700\" not found. Substituting with \"Symbol,normal,400\".\\r\\nnov. 28, 2022 4:16:09 PM org.apache.fop.events.LoggingEventListener processEvent\\r\\nAVERTISSEMENT: Font \"ZapfDingbats,normal,700\" not found. Substituting with \"ZapfDingbats,normal,400\".\\r\\nnov. 28, 2022 4:16:09 PM org.apache.fop.events.LoggingEventListener processEvent\\r\\nINFOS: Rendered page #1.\\r\\n')"
      ]
     },
     "execution_count": 21,
     "metadata": {},
     "output_type": "execute_result"
    }
   ],
   "source": [
    "file_name = \"question-4\"\n",
    "use_template(file_name)\n",
    "run_fop(file_name)"
   ]
  },
  {
   "cell_type": "markdown",
   "metadata": {},
   "source": [
    "__Q5. Page de titre :__\n",
    "<div style=\"background-color:#eef;padding:10px;border-radius:3px\">\n",
    "Ajouter une page de titre. En profiter pour mentionner vos noms. Noter qu'il est en général possible de passer des variables au moteur XSLT\n",
    "(cf. <a href=\"http://lxml.de/xpathxslt.html#stylesheet-parameters\">lxml</a>),\n",
    "ce qui peut faciliter entre autres l'affichage de la date d'impression.\n",
    "</div>\n",
    "\n",
    "Les documents demandés seront nommés\n",
    "<a href=\"question-5.xsl\"><tt>question-5.xsl</tt></a>,\n",
    "<a href=\"question-5.fo\"><tt>question-5.fo</tt></a> et\n",
    "<a href=\"question-5.pdf\"><tt>question-5.pdf</tt></a>."
   ]
  },
  {
   "cell_type": "code",
   "execution_count": 55,
   "metadata": {
    "util.bundle": "correcteur"
   },
   "outputs": [
    {
     "data": {
      "text/plain": [
       "CompletedProcess(args=['fop', '-c', 'C:\\\\Program Files (x86)\\\\fop-2.8\\\\fop\\\\conf\\\\fop.xconf', 'question-5.fo', 'question-5.pdf'], returncode=0, stderr=b'nov. 28, 2022 4:43:39 PM org.apache.fop.apps.FopConfParser configure\\r\\nINFOS: Default page-height set to: 11.00in\\r\\nnov. 28, 2022 4:43:39 PM org.apache.fop.apps.FopConfParser configure\\r\\nINFOS: Default page-width set to: 8.50in\\r\\nnov. 28, 2022 4:43:39 PM org.apache.fop.events.LoggingEventListener processEvent\\r\\nAVERTISSEMENT: Font \"Symbol,normal,700\" not found. Substituting with \"Symbol,normal,400\".\\r\\nnov. 28, 2022 4:43:39 PM org.apache.fop.events.LoggingEventListener processEvent\\r\\nAVERTISSEMENT: Font \"ZapfDingbats,normal,700\" not found. Substituting with \"ZapfDingbats,normal,400\".\\r\\nnov. 28, 2022 4:43:39 PM org.apache.fop.events.LoggingEventListener processEvent\\r\\nINFOS: Rendered page #1.\\r\\nnov. 28, 2022 4:43:39 PM org.apache.fop.events.LoggingEventListener processEvent\\r\\nINFOS: Rendered page #2.\\r\\n')"
      ]
     },
     "execution_count": 55,
     "metadata": {},
     "output_type": "execute_result"
    }
   ],
   "source": [
    "file_name = \"question-5\"\n",
    "use_template(file_name, {\"nom1\": 'Tristan Boucansaud', \"nom2\": 'Ugo Insalaco'})\n",
    "run_fop(file_name)"
   ]
  },
  {
   "cell_type": "markdown",
   "metadata": {},
   "source": [
    "__Q6. Statistiques :__\n",
    "<div style=\"background-color:#eef;padding:10px;border-radius:3px\">\n",
    "Pour chacun des couples gare de départ / gare d'arrivée, créer un tableau avec les statistiques de la ligne, en évitant que les tableaux puissent être coupés par un saut de page. Ne pas oublier d'afficher les statistiques dans l'ordre du calendrier, et non pas dans l'ordre du document source...\n",
    "</div>\n",
    "\n",
    "Les documents demandés seront nommés\n",
    "<a href=\"question-6.xsl\"><tt>question-6.xsl</tt></a>,\n",
    "<a href=\"question-6.fo\"><tt>question-6.fo</tt></a> et\n",
    "<a href=\"question-6.pdf\"><tt>question-6.pdf</tt></a>."
   ]
  },
  {
   "cell_type": "code",
   "execution_count": 4,
   "metadata": {
    "util.bundle": "correcteur"
   },
   "outputs": [
    {
     "data": {
      "text/plain": [
       "CompletedProcess(args=['fop', '-c', 'C:\\\\Program Files (x86)\\\\fop-2.8\\\\fop\\\\conf\\\\fop.xconf', 'question-6.fo', 'question-6.pdf'], returncode=0, stderr=b'nov. 28, 2022 5:37:12 PM org.apache.fop.apps.FopConfParser configure\\r\\nINFOS: Default page-height set to: 11.00in\\r\\nnov. 28, 2022 5:37:12 PM org.apache.fop.apps.FopConfParser configure\\r\\nINFOS: Default page-width set to: 8.50in\\r\\nnov. 28, 2022 5:37:13 PM org.apache.fop.events.LoggingEventListener processEvent\\r\\nAVERTISSEMENT: Font \"Symbol,normal,700\" not found. Substituting with \"Symbol,normal,400\".\\r\\nnov. 28, 2022 5:37:13 PM org.apache.fop.events.LoggingEventListener processEvent\\r\\nAVERTISSEMENT: Font \"ZapfDingbats,normal,700\" not found. Substituting with \"ZapfDingbats,normal,400\".\\r\\nnov. 28, 2022 5:37:13 PM org.apache.fop.events.LoggingEventListener processEvent\\r\\nINFOS: Rendered page #1.\\r\\nnov. 28, 2022 5:37:13 PM org.apache.fop.events.LoggingEventListener processEvent\\r\\nAVERTISSEMENT: The following feature isn\\'t implemented by Apache FOP, yet: table-layout=\"auto\" (on fo:table) (See position 23:10)\\r\\nnov. 28, 2022 5:37:13 PM org.apache.fop.events.LoggingEventListener processEvent\\r\\nAVERTISSEMENT: The following feature isn\\'t implemented by Apache FOP, yet: table-layout=\"auto\" (on fo:table) (See position 948:10)\\r\\nnov. 28, 2022 5:37:13 PM org.apache.fop.events.LoggingEventListener processEvent\\r\\nAVERTISSEMENT: The following feature isn\\'t implemented by Apache FOP, yet: table-layout=\"auto\" (on fo:table) (See position 1873:10)\\r\\nnov. 28, 2022 5:37:13 PM org.apache.fop.events.LoggingEventListener processEvent\\r\\nAVERTISSEMENT: The following feature isn\\'t implemented by Apache FOP, yet: table-layout=\"auto\" (on fo:table) (See position 2798:10)\\r\\nnov. 28, 2022 5:37:13 PM org.apache.fop.events.LoggingEventListener processEvent\\r\\nAVERTISSEMENT: The following feature isn\\'t implemented by Apache FOP, yet: table-layout=\"auto\" (on fo:table) (See position 3723:10)\\r\\nnov. 28, 2022 5:37:13 PM org.apache.fop.events.LoggingEventListener processEvent\\r\\nAVERTISSEMENT: The following feature isn\\'t implemented by Apache FOP, yet: table-layout=\"auto\" (on fo:table) (See position 4648:10)\\r\\nnov. 28, 2022 5:37:13 PM org.apache.fop.events.LoggingEventListener processEvent\\r\\nAVERTISSEMENT: The following feature isn\\'t implemented by Apache FOP, yet: table-layout=\"auto\" (on fo:table) (See position 5573:10)\\r\\nnov. 28, 2022 5:37:13 PM org.apache.fop.events.LoggingEventListener processEvent\\r\\nAVERTISSEMENT: The following feature isn\\'t implemented by Apache FOP, yet: table-layout=\"auto\" (on fo:table) (See position 6498:10)\\r\\nnov. 28, 2022 5:37:13 PM org.apache.fop.events.LoggingEventListener processEvent\\r\\nAVERTISSEMENT: The following feature isn\\'t implemented by Apache FOP, yet: table-layout=\"auto\" (on fo:table) (See position 7423:10)\\r\\nnov. 28, 2022 5:37:13 PM org.apache.fop.events.LoggingEventListener processEvent\\r\\nAVERTISSEMENT: The following feature isn\\'t implemented by Apache FOP, yet: table-layout=\"auto\" (on fo:table) (See position 8348:10)\\r\\nnov. 28, 2022 5:37:13 PM org.apache.fop.events.LoggingEventListener processEvent\\r\\nAVERTISSEMENT: The following feature isn\\'t implemented by Apache FOP, yet: table-layout=\"auto\" (on fo:table) (See position 9273:10)\\r\\nnov. 28, 2022 5:37:13 PM org.apache.fop.events.LoggingEventListener processEvent\\r\\nAVERTISSEMENT: The following feature isn\\'t implemented by Apache FOP, yet: table-layout=\"auto\" (on fo:table) (See position 10198:10)\\r\\nnov. 28, 2022 5:37:13 PM org.apache.fop.events.LoggingEventListener processEvent\\r\\nAVERTISSEMENT: The following feature isn\\'t implemented by Apache FOP, yet: table-layout=\"auto\" (on fo:table) (See position 11124:10)\\r\\nnov. 28, 2022 5:37:13 PM org.apache.fop.events.LoggingEventListener processEvent\\r\\nAVERTISSEMENT: The following feature isn\\'t implemented by Apache FOP, yet: table-layout=\"auto\" (on fo:table) (See position 12049:10)\\r\\nnov. 28, 2022 5:37:13 PM org.apache.fop.events.LoggingEventListener processEvent\\r\\nAVERTISSEMENT: The following feature isn\\'t implemented by Apache FOP, yet: table-layout=\"auto\" (on fo:table) (See position 12974:10)\\r\\nnov. 28, 2022 5:37:13 PM org.apache.fop.events.LoggingEventListener processEvent\\r\\nAVERTISSEMENT: The following feature isn\\'t implemented by Apache FOP, yet: table-layout=\"auto\" (on fo:table) (See position 13899:10)\\r\\nnov. 28, 2022 5:37:13 PM org.apache.fop.events.LoggingEventListener processEvent\\r\\nAVERTISSEMENT: The following feature isn\\'t implemented by Apache FOP, yet: table-layout=\"auto\" (on fo:table) (See position 14824:10)\\r\\nnov. 28, 2022 5:37:13 PM org.apache.fop.events.LoggingEventListener processEvent\\r\\nAVERTISSEMENT: The following feature isn\\'t implemented by Apache FOP, yet: table-layout=\"auto\" (on fo:table) (See position 15749:10)\\r\\nnov. 28, 2022 5:37:13 PM org.apache.fop.events.LoggingEventListener processEvent\\r\\nAVERTISSEMENT: The following feature isn\\'t implemented by Apache FOP, yet: table-layout=\"auto\" (on fo:table) (See position 16674:10)\\r\\nnov. 28, 2022 5:37:13 PM org.apache.fop.events.LoggingEventListener processEvent\\r\\nAVERTISSEMENT: The following feature isn\\'t implemented by Apache FOP, yet: table-layout=\"auto\" (on fo:table) (See position 17599:10)\\r\\nnov. 28, 2022 5:37:13 PM org.apache.fop.events.LoggingEventListener processEvent\\r\\nAVERTISSEMENT: The following feature isn\\'t implemented by Apache FOP, yet: table-layout=\"auto\" (on fo:table) (See position 18524:10)\\r\\nnov. 28, 2022 5:37:13 PM org.apache.fop.events.LoggingEventListener processEvent\\r\\nAVERTISSEMENT: The following feature isn\\'t implemented by Apache FOP, yet: table-layout=\"auto\" (on fo:table) (See position 19449:10)\\r\\nnov. 28, 2022 5:37:13 PM org.apache.fop.events.LoggingEventListener processEvent\\r\\nAVERTISSEMENT: The following feature isn\\'t implemented by Apache FOP, yet: table-layout=\"auto\" (on fo:table) (See position 20374:10)\\r\\nnov. 28, 2022 5:37:13 PM org.apache.fop.events.LoggingEventListener processEvent\\r\\nAVERTISSEMENT: The following feature isn\\'t implemented by Apache FOP, yet: table-layout=\"auto\" (on fo:table) (See position 21299:10)\\r\\nnov. 28, 2022 5:37:13 PM org.apache.fop.events.LoggingEventListener processEvent\\r\\nAVERTISSEMENT: The following feature isn\\'t implemented by Apache FOP, yet: table-layout=\"auto\" (on fo:table) (See position 22224:10)\\r\\nnov. 28, 2022 5:37:13 PM org.apache.fop.events.LoggingEventListener processEvent\\r\\nAVERTISSEMENT: The following feature isn\\'t implemented by Apache FOP, yet: table-layout=\"auto\" (on fo:table) (See position 23149:10)\\r\\nnov. 28, 2022 5:37:13 PM org.apache.fop.events.LoggingEventListener processEvent\\r\\nAVERTISSEMENT: The following feature isn\\'t implemented by Apache FOP, yet: table-layout=\"auto\" (on fo:table) (See position 24074:10)\\r\\nnov. 28, 2022 5:37:13 PM org.apache.fop.events.LoggingEventListener processEvent\\r\\nAVERTISSEMENT: The following feature isn\\'t implemented by Apache FOP, yet: table-layout=\"auto\" (on fo:table) (See position 24999:10)\\r\\nnov. 28, 2022 5:37:13 PM org.apache.fop.events.LoggingEventListener processEvent\\r\\nAVERTISSEMENT: The following feature isn\\'t implemented by Apache FOP, yet: table-layout=\"auto\" (on fo:table) (See position 25924:10)\\r\\nnov. 28, 2022 5:37:13 PM org.apache.fop.events.LoggingEventListener processEvent\\r\\nAVERTISSEMENT: The following feature isn\\'t implemented by Apache FOP, yet: table-layout=\"auto\" (on fo:table) (See position 26849:10)\\r\\nnov. 28, 2022 5:37:13 PM org.apache.fop.events.LoggingEventListener processEvent\\r\\nAVERTISSEMENT: The following feature isn\\'t implemented by Apache FOP, yet: table-layout=\"auto\" (on fo:table) (See position 27674:10)\\r\\nnov. 28, 2022 5:37:13 PM org.apache.fop.events.LoggingEventListener processEvent\\r\\nAVERTISSEMENT: The following feature isn\\'t implemented by Apache FOP, yet: table-layout=\"auto\" (on fo:table) (See position 28599:10)\\r\\nnov. 28, 2022 5:37:13 PM org.apache.fop.events.LoggingEventListener processEvent\\r\\nAVERTISSEMENT: The following feature isn\\'t implemented by Apache FOP, yet: table-layout=\"auto\" (on fo:table) (See position 29524:10)\\r\\nnov. 28, 2022 5:37:13 PM org.apache.fop.events.LoggingEventListener processEvent\\r\\nAVERTISSEMENT: The following feature isn\\'t implemented by Apache FOP, yet: table-layout=\"auto\" (on fo:table) (See position 30449:10)\\r\\nnov. 28, 2022 5:37:13 PM org.apache.fop.events.LoggingEventListener processEvent\\r\\nAVERTISSEMENT: The following feature isn\\'t implemented by Apache FOP, yet: table-layout=\"auto\" (on fo:table) (See position 31374:10)\\r\\nnov. 28, 2022 5:37:13 PM org.apache.fop.events.LoggingEventListener processEvent\\r\\nAVERTISSEMENT: The following feature isn\\'t implemented by Apache FOP, yet: table-layout=\"auto\" (on fo:table) (See position 32299:10)\\r\\nnov. 28, 2022 5:37:13 PM org.apache.fop.events.LoggingEventListener processEvent\\r\\nAVERTISSEMENT: The following feature isn\\'t implemented by Apache FOP, yet: table-layout=\"auto\" (on fo:table) (See position 33224:10)\\r\\nnov. 28, 2022 5:37:13 PM org.apache.fop.events.LoggingEventListener processEvent\\r\\nAVERTISSEMENT: The following feature isn\\'t implemented by Apache FOP, yet: table-layout=\"auto\" (on fo:table) (See position 34149:10)\\r\\nnov. 28, 2022 5:37:13 PM org.apache.fop.events.LoggingEventListener processEvent\\r\\nAVERTISSEMENT: The following feature isn\\'t implemented by Apache FOP, yet: table-layout=\"auto\" (on fo:table) (See position 35074:10)\\r\\nnov. 28, 2022 5:37:13 PM org.apache.fop.events.LoggingEventListener processEvent\\r\\nAVERTISSEMENT: The following feature isn\\'t implemented by Apache FOP, yet: table-layout=\"auto\" (on fo:table) (See position 35999:10)\\r\\nnov. 28, 2022 5:37:13 PM org.apache.fop.events.LoggingEventListener processEvent\\r\\nAVERTISSEMENT: The following feature isn\\'t implemented by Apache FOP, yet: table-layout=\"auto\" (on fo:table) (See position 36924:10)\\r\\nnov. 28, 2022 5:37:13 PM org.apache.fop.events.LoggingEventListener processEvent\\r\\nAVERTISSEMENT: The following feature isn\\'t implemented by Apache FOP, yet: table-layout=\"auto\" (on fo:table) (See position 37849:10)\\r\\nnov. 28, 2022 5:37:13 PM org.apache.fop.events.LoggingEventListener processEvent\\r\\nAVERTISSEMENT: The following feature isn\\'t implemented by Apache FOP, yet: table-layout=\"auto\" (on fo:table) (See position 38774:10)\\r\\nnov. 28, 2022 5:37:13 PM org.apache.fop.events.LoggingEventListener processEvent\\r\\nAVERTISSEMENT: The following feature isn\\'t implemented by Apache FOP, yet: table-layout=\"auto\" (on fo:table) (See position 39699:10)\\r\\nnov. 28, 2022 5:37:13 PM org.apache.fop.events.LoggingEventListener processEvent\\r\\nAVERTISSEMENT: The following feature isn\\'t implemented by Apache FOP, yet: table-layout=\"auto\" (on fo:table) (See position 40624:10)\\r\\nnov. 28, 2022 5:37:13 PM org.apache.fop.events.LoggingEventListener processEvent\\r\\nAVERTISSEMENT: The following feature isn\\'t implemented by Apache FOP, yet: table-layout=\"auto\" (on fo:table) (See position 41549:10)\\r\\nnov. 28, 2022 5:37:13 PM org.apache.fop.events.LoggingEventListener processEvent\\r\\nAVERTISSEMENT: The following feature isn\\'t implemented by Apache FOP, yet: table-layout=\"auto\" (on fo:table) (See position 42374:10)\\r\\nnov. 28, 2022 5:37:13 PM org.apache.fop.events.LoggingEventListener processEvent\\r\\nAVERTISSEMENT: The following feature isn\\'t implemented by Apache FOP, yet: table-layout=\"auto\" (on fo:table) (See position 43299:10)\\r\\nnov. 28, 2022 5:37:13 PM org.apache.fop.events.LoggingEventListener processEvent\\r\\nAVERTISSEMENT: The following feature isn\\'t implemented by Apache FOP, yet: table-layout=\"auto\" (on fo:table) (See position 44224:10)\\r\\nnov. 28, 2022 5:37:13 PM org.apache.fop.events.LoggingEventListener processEvent\\r\\nAVERTISSEMENT: The following feature isn\\'t implemented by Apache FOP, yet: table-layout=\"auto\" (on fo:table) (See position 45149:10)\\r\\nnov. 28, 2022 5:37:13 PM org.apache.fop.events.LoggingEventListener processEvent\\r\\nAVERTISSEMENT: The following feature isn\\'t implemented by Apache FOP, yet: table-layout=\"auto\" (on fo:table) (See position 46074:10)\\r\\nnov. 28, 2022 5:37:13 PM org.apache.fop.events.LoggingEventListener processEvent\\r\\nAVERTISSEMENT: The following feature isn\\'t implemented by Apache FOP, yet: table-layout=\"auto\" (on fo:table) (See position 46999:10)\\r\\nnov. 28, 2022 5:37:13 PM org.apache.fop.events.LoggingEventListener processEvent\\r\\nAVERTISSEMENT: The following feature isn\\'t implemented by Apache FOP, yet: table-layout=\"auto\" (on fo:table) (See position 47924:10)\\r\\nnov. 28, 2022 5:37:13 PM org.apache.fop.events.LoggingEventListener processEvent\\r\\nAVERTISSEMENT: The following feature isn\\'t implemented by Apache FOP, yet: table-layout=\"auto\" (on fo:table) (See position 48849:10)\\r\\nnov. 28, 2022 5:37:13 PM org.apache.fop.events.LoggingEventListener processEvent\\r\\nAVERTISSEMENT: The following feature isn\\'t implemented by Apache FOP, yet: table-layout=\"auto\" (on fo:table) (See position 49774:10)\\r\\nnov. 28, 2022 5:37:13 PM org.apache.fop.events.LoggingEventListener processEvent\\r\\nAVERTISSEMENT: The following feature isn\\'t implemented by Apache FOP, yet: table-layout=\"auto\" (on fo:table) (See position 50699:10)\\r\\nnov. 28, 2022 5:37:13 PM org.apache.fop.events.LoggingEventListener processEvent\\r\\nAVERTISSEMENT: The following feature isn\\'t implemented by Apache FOP, yet: table-layout=\"auto\" (on fo:table) (See position 51625:10)\\r\\nnov. 28, 2022 5:37:13 PM org.apache.fop.events.LoggingEventListener processEvent\\r\\nAVERTISSEMENT: The following feature isn\\'t implemented by Apache FOP, yet: table-layout=\"auto\" (on fo:table) (See position 52550:10)\\r\\nnov. 28, 2022 5:37:13 PM org.apache.fop.events.LoggingEventListener processEvent\\r\\nAVERTISSEMENT: The following feature isn\\'t implemented by Apache FOP, yet: table-layout=\"auto\" (on fo:table) (See position 53475:10)\\r\\nnov. 28, 2022 5:37:13 PM org.apache.fop.events.LoggingEventListener processEvent\\r\\nAVERTISSEMENT: The following feature isn\\'t implemented by Apache FOP, yet: table-layout=\"auto\" (on fo:table) (See position 54400:10)\\r\\nnov. 28, 2022 5:37:13 PM org.apache.fop.events.LoggingEventListener processEvent\\r\\nAVERTISSEMENT: The following feature isn\\'t implemented by Apache FOP, yet: table-layout=\"auto\" (on fo:table) (See position 55325:10)\\r\\nnov. 28, 2022 5:37:13 PM org.apache.fop.events.LoggingEventListener processEvent\\r\\nAVERTISSEMENT: The following feature isn\\'t implemented by Apache FOP, yet: table-layout=\"auto\" (on fo:table) (See position 56250:10)\\r\\nnov. 28, 2022 5:37:13 PM org.apache.fop.events.LoggingEventListener processEvent\\r\\nAVERTISSEMENT: The following feature isn\\'t implemented by Apache FOP, yet: table-layout=\"auto\" (on fo:table) (See position 57175:10)\\r\\nnov. 28, 2022 5:37:13 PM org.apache.fop.events.LoggingEventListener processEvent\\r\\nAVERTISSEMENT: The following feature isn\\'t implemented by Apache FOP, yet: table-layout=\"auto\" (on fo:table) (See position 58100:10)\\r\\nnov. 28, 2022 5:37:13 PM org.apache.fop.events.LoggingEventListener processEvent\\r\\nAVERTISSEMENT: The following feature isn\\'t implemented by Apache FOP, yet: table-layout=\"auto\" (on fo:table) (See position 59025:10)\\r\\nnov. 28, 2022 5:37:13 PM org.apache.fop.events.LoggingEventListener processEvent\\r\\nAVERTISSEMENT: The following feature isn\\'t implemented by Apache FOP, yet: table-layout=\"auto\" (on fo:table) (See position 59950:10)\\r\\nnov. 28, 2022 5:37:13 PM org.apache.fop.events.LoggingEventListener processEvent\\r\\nAVERTISSEMENT: The following feature isn\\'t implemented by Apache FOP, yet: table-layout=\"auto\" (on fo:table) (See position 60875:10)\\r\\nnov. 28, 2022 5:37:13 PM org.apache.fop.events.LoggingEventListener processEvent\\r\\nAVERTISSEMENT: The following feature isn\\'t implemented by Apache FOP, yet: table-layout=\"auto\" (on fo:table) (See position 61800:10)\\r\\nnov. 28, 2022 5:37:13 PM org.apache.fop.events.LoggingEventListener processEvent\\r\\nAVERTISSEMENT: The following feature isn\\'t implemented by Apache FOP, yet: table-layout=\"auto\" (on fo:table) (See position 62725:10)\\r\\nnov. 28, 2022 5:37:14 PM org.apache.fop.events.LoggingEventListener processEvent\\r\\nAVERTISSEMENT: The following feature isn\\'t implemented by Apache FOP, yet: table-layout=\"auto\" (on fo:table) (See position 63650:10)\\r\\nnov. 28, 2022 5:37:14 PM org.apache.fop.events.LoggingEventListener processEvent\\r\\nAVERTISSEMENT: The following feature isn\\'t implemented by Apache FOP, yet: table-layout=\"auto\" (on fo:table) (See position 64575:10)\\r\\nnov. 28, 2022 5:37:14 PM org.apache.fop.events.LoggingEventListener processEvent\\r\\nAVERTISSEMENT: The following feature isn\\'t implemented by Apache FOP, yet: table-layout=\"auto\" (on fo:table) (See position 65500:10)\\r\\nnov. 28, 2022 5:37:14 PM org.apache.fop.events.LoggingEventListener processEvent\\r\\nAVERTISSEMENT: The following feature isn\\'t implemented by Apache FOP, yet: table-layout=\"auto\" (on fo:table) (See position 66425:10)\\r\\nnov. 28, 2022 5:37:14 PM org.apache.fop.events.LoggingEventListener processEvent\\r\\nAVERTISSEMENT: The following feature isn\\'t implemented by Apache FOP, yet: table-layout=\"auto\" (on fo:table) (See position 67350:10)\\r\\nnov. 28, 2022 5:37:14 PM org.apache.fop.events.LoggingEventListener processEvent\\r\\nAVERTISSEMENT: The following feature isn\\'t implemented by Apache FOP, yet: table-layout=\"auto\" (on fo:table) (See position 68275:10)\\r\\nnov. 28, 2022 5:37:14 PM org.apache.fop.events.LoggingEventListener processEvent\\r\\nAVERTISSEMENT: The following feature isn\\'t implemented by Apache FOP, yet: table-layout=\"auto\" (on fo:table) (See position 69200:10)\\r\\nnov. 28, 2022 5:37:14 PM org.apache.fop.events.LoggingEventListener processEvent\\r\\nAVERTISSEMENT: The following feature isn\\'t implemented by Apache FOP, yet: table-layout=\"auto\" (on fo:table) (See position 70125:10)\\r\\nnov. 28, 2022 5:37:14 PM org.apache.fop.events.LoggingEventListener processEvent\\r\\nAVERTISSEMENT: The following feature isn\\'t implemented by Apache FOP, yet: table-layout=\"auto\" (on fo:table) (See position 71050:10)\\r\\nnov. 28, 2022 5:37:14 PM org.apache.fop.events.LoggingEventListener processEvent\\r\\nAVERTISSEMENT: The following feature isn\\'t implemented by Apache FOP, yet: table-layout=\"auto\" (on fo:table) (See position 71975:10)\\r\\nnov. 28, 2022 5:37:14 PM org.apache.fop.events.LoggingEventListener processEvent\\r\\nAVERTISSEMENT: The following feature isn\\'t implemented by Apache FOP, yet: table-layout=\"auto\" (on fo:table) (See position 72900:10)\\r\\nnov. 28, 2022 5:37:14 PM org.apache.fop.events.LoggingEventListener processEvent\\r\\nAVERTISSEMENT: The following feature isn\\'t implemented by Apache FOP, yet: table-layout=\"auto\" (on fo:table) (See position 73825:10)\\r\\nnov. 28, 2022 5:37:14 PM org.apache.fop.events.LoggingEventListener processEvent\\r\\nAVERTISSEMENT: The following feature isn\\'t implemented by Apache FOP, yet: table-layout=\"auto\" (on fo:table) (See position 74750:10)\\r\\nnov. 28, 2022 5:37:14 PM org.apache.fop.events.LoggingEventListener processEvent\\r\\nAVERTISSEMENT: The following feature isn\\'t implemented by Apache FOP, yet: table-layout=\"auto\" (on fo:table) (See position 75675:10)\\r\\nnov. 28, 2022 5:37:14 PM org.apache.fop.events.LoggingEventListener processEvent\\r\\nAVERTISSEMENT: The following feature isn\\'t implemented by Apache FOP, yet: table-layout=\"auto\" (on fo:table) (See position 76600:10)\\r\\nnov. 28, 2022 5:37:14 PM org.apache.fop.events.LoggingEventListener processEvent\\r\\nAVERTISSEMENT: The following feature isn\\'t implemented by Apache FOP, yet: table-layout=\"auto\" (on fo:table) (See position 77525:10)\\r\\nnov. 28, 2022 5:37:14 PM org.apache.fop.events.LoggingEventListener processEvent\\r\\nAVERTISSEMENT: The following feature isn\\'t implemented by Apache FOP, yet: table-layout=\"auto\" (on fo:table) (See position 78450:10)\\r\\nnov. 28, 2022 5:37:14 PM org.apache.fop.events.LoggingEventListener processEvent\\r\\nAVERTISSEMENT: The following feature isn\\'t implemented by Apache FOP, yet: table-layout=\"auto\" (on fo:table) (See position 79375:10)\\r\\nnov. 28, 2022 5:37:14 PM org.apache.fop.events.LoggingEventListener processEvent\\r\\nAVERTISSEMENT: The following feature isn\\'t implemented by Apache FOP, yet: table-layout=\"auto\" (on fo:table) (See position 80300:10)\\r\\nnov. 28, 2022 5:37:14 PM org.apache.fop.events.LoggingEventListener processEvent\\r\\nAVERTISSEMENT: The following feature isn\\'t implemented by Apache FOP, yet: table-layout=\"auto\" (on fo:table) (See position 81225:10)\\r\\nnov. 28, 2022 5:37:14 PM org.apache.fop.events.LoggingEventListener processEvent\\r\\nAVERTISSEMENT: The following feature isn\\'t implemented by Apache FOP, yet: table-layout=\"auto\" (on fo:table) (See position 82150:10)\\r\\nnov. 28, 2022 5:37:14 PM org.apache.fop.events.LoggingEventListener processEvent\\r\\nAVERTISSEMENT: The following feature isn\\'t implemented by Apache FOP, yet: table-layout=\"auto\" (on fo:table) (See position 83076:10)\\r\\nnov. 28, 2022 5:37:14 PM org.apache.fop.events.LoggingEventListener processEvent\\r\\nAVERTISSEMENT: The following feature isn\\'t implemented by Apache FOP, yet: table-layout=\"auto\" (on fo:table) (See position 84001:10)\\r\\nnov. 28, 2022 5:37:14 PM org.apache.fop.events.LoggingEventListener processEvent\\r\\nAVERTISSEMENT: The following feature isn\\'t implemented by Apache FOP, yet: table-layout=\"auto\" (on fo:table) (See position 84106:10)\\r\\nnov. 28, 2022 5:37:14 PM org.apache.fop.events.LoggingEventListener processEvent\\r\\nAVERTISSEMENT: The following feature isn\\'t implemented by Apache FOP, yet: table-layout=\"auto\" (on fo:table) (See position 85031:10)\\r\\nnov. 28, 2022 5:37:14 PM org.apache.fop.events.LoggingEventListener processEvent\\r\\nAVERTISSEMENT: The following feature isn\\'t implemented by Apache FOP, yet: table-layout=\"auto\" (on fo:table) (See position 85956:10)\\r\\nnov. 28, 2022 5:37:14 PM org.apache.fop.events.LoggingEventListener processEvent\\r\\nAVERTISSEMENT: The following feature isn\\'t implemented by Apache FOP, yet: table-layout=\"auto\" (on fo:table) (See position 86881:10)\\r\\nnov. 28, 2022 5:37:14 PM org.apache.fop.events.LoggingEventListener processEvent\\r\\nAVERTISSEMENT: The following feature isn\\'t implemented by Apache FOP, yet: table-layout=\"auto\" (on fo:table) (See position 87806:10)\\r\\nnov. 28, 2022 5:37:14 PM org.apache.fop.events.LoggingEventListener processEvent\\r\\nAVERTISSEMENT: The following feature isn\\'t implemented by Apache FOP, yet: table-layout=\"auto\" (on fo:table) (See position 88731:10)\\r\\nnov. 28, 2022 5:37:14 PM org.apache.fop.events.LoggingEventListener processEvent\\r\\nAVERTISSEMENT: The following feature isn\\'t implemented by Apache FOP, yet: table-layout=\"auto\" (on fo:table) (See position 89656:10)\\r\\nnov. 28, 2022 5:37:14 PM org.apache.fop.events.LoggingEventListener processEvent\\r\\nAVERTISSEMENT: The following feature isn\\'t implemented by Apache FOP, yet: table-layout=\"auto\" (on fo:table) (See position 89761:10)\\r\\nnov. 28, 2022 5:37:14 PM org.apache.fop.events.LoggingEventListener processEvent\\r\\nAVERTISSEMENT: The following feature isn\\'t implemented by Apache FOP, yet: table-layout=\"auto\" (on fo:table) (See position 90686:10)\\r\\nnov. 28, 2022 5:37:14 PM org.apache.fop.events.LoggingEventListener processEvent\\r\\nAVERTISSEMENT: The following feature isn\\'t implemented by Apache FOP, yet: table-layout=\"auto\" (on fo:table) (See position 91611:10)\\r\\nnov. 28, 2022 5:37:14 PM org.apache.fop.events.LoggingEventListener processEvent\\r\\nINFOS: Rendered page #2.\\r\\nnov. 28, 2022 5:37:14 PM org.apache.fop.events.LoggingEventListener processEvent\\r\\nINFOS: Rendered page #3.\\r\\nnov. 28, 2022 5:37:14 PM org.apache.fop.events.LoggingEventListener processEvent\\r\\nINFOS: Rendered page #4.\\r\\nnov. 28, 2022 5:37:14 PM org.apache.fop.events.LoggingEventListener processEvent\\r\\nINFOS: Rendered page #5.\\r\\nnov. 28, 2022 5:37:14 PM org.apache.fop.events.LoggingEventListener processEvent\\r\\nINFOS: Rendered page #6.\\r\\nnov. 28, 2022 5:37:14 PM org.apache.fop.events.LoggingEventListener processEvent\\r\\nINFOS: Rendered page #7.\\r\\nnov. 28, 2022 5:37:14 PM org.apache.fop.events.LoggingEventListener processEvent\\r\\nINFOS: Rendered page #8.\\r\\nnov. 28, 2022 5:37:14 PM org.apache.fop.events.LoggingEventListener processEvent\\r\\nINFOS: Rendered page #9.\\r\\nnov. 28, 2022 5:37:14 PM org.apache.fop.events.LoggingEventListener processEvent\\r\\nINFOS: Rendered page #10.\\r\\nnov. 28, 2022 5:37:14 PM org.apache.fop.events.LoggingEventListener processEvent\\r\\nINFOS: Rendered page #11.\\r\\nnov. 28, 2022 5:37:15 PM org.apache.fop.events.LoggingEventListener processEvent\\r\\nINFOS: Rendered page #12.\\r\\nnov. 28, 2022 5:37:15 PM org.apache.fop.events.LoggingEventListener processEvent\\r\\nINFOS: Rendered page #13.\\r\\nnov. 28, 2022 5:37:15 PM org.apache.fop.events.LoggingEventListener processEvent\\r\\nINFOS: Rendered page #14.\\r\\nnov. 28, 2022 5:37:15 PM org.apache.fop.events.LoggingEventListener processEvent\\r\\nINFOS: Rendered page #15.\\r\\nnov. 28, 2022 5:37:15 PM org.apache.fop.events.LoggingEventListener processEvent\\r\\nINFOS: Rendered page #16.\\r\\nnov. 28, 2022 5:37:15 PM org.apache.fop.events.LoggingEventListener processEvent\\r\\nINFOS: Rendered page #17.\\r\\nnov. 28, 2022 5:37:15 PM org.apache.fop.events.LoggingEventListener processEvent\\r\\nINFOS: Rendered page #18.\\r\\nnov. 28, 2022 5:37:15 PM org.apache.fop.events.LoggingEventListener processEvent\\r\\nINFOS: Rendered page #19.\\r\\nnov. 28, 2022 5:37:15 PM org.apache.fop.events.LoggingEventListener processEvent\\r\\nINFOS: Rendered page #20.\\r\\nnov. 28, 2022 5:37:15 PM org.apache.fop.events.LoggingEventListener processEvent\\r\\nINFOS: Rendered page #21.\\r\\nnov. 28, 2022 5:37:15 PM org.apache.fop.events.LoggingEventListener processEvent\\r\\nINFOS: Rendered page #22.\\r\\nnov. 28, 2022 5:37:15 PM org.apache.fop.events.LoggingEventListener processEvent\\r\\nINFOS: Rendered page #23.\\r\\nnov. 28, 2022 5:37:15 PM org.apache.fop.events.LoggingEventListener processEvent\\r\\nINFOS: Rendered page #24.\\r\\nnov. 28, 2022 5:37:15 PM org.apache.fop.events.LoggingEventListener processEvent\\r\\nINFOS: Rendered page #25.\\r\\nnov. 28, 2022 5:37:15 PM org.apache.fop.events.LoggingEventListener processEvent\\r\\nINFOS: Rendered page #26.\\r\\nnov. 28, 2022 5:37:15 PM org.apache.fop.events.LoggingEventListener processEvent\\r\\nINFOS: Rendered page #27.\\r\\nnov. 28, 2022 5:37:15 PM org.apache.fop.events.LoggingEventListener processEvent\\r\\nINFOS: Rendered page #28.\\r\\nnov. 28, 2022 5:37:15 PM org.apache.fop.events.LoggingEventListener processEvent\\r\\nINFOS: Rendered page #29.\\r\\nnov. 28, 2022 5:37:15 PM org.apache.fop.events.LoggingEventListener processEvent\\r\\nINFOS: Rendered page #30.\\r\\nnov. 28, 2022 5:37:15 PM org.apache.fop.events.LoggingEventListener processEvent\\r\\nINFOS: Rendered page #31.\\r\\nnov. 28, 2022 5:37:15 PM org.apache.fop.events.LoggingEventListener processEvent\\r\\nINFOS: Rendered page #32.\\r\\nnov. 28, 2022 5:37:15 PM org.apache.fop.events.LoggingEventListener processEvent\\r\\nINFOS: Rendered page #33.\\r\\nnov. 28, 2022 5:37:15 PM org.apache.fop.events.LoggingEventListener processEvent\\r\\nINFOS: Rendered page #34.\\r\\nnov. 28, 2022 5:37:15 PM org.apache.fop.events.LoggingEventListener processEvent\\r\\nINFOS: Rendered page #35.\\r\\nnov. 28, 2022 5:37:15 PM org.apache.fop.events.LoggingEventListener processEvent\\r\\nINFOS: Rendered page #36.\\r\\nnov. 28, 2022 5:37:15 PM org.apache.fop.events.LoggingEventListener processEvent\\r\\nINFOS: Rendered page #37.\\r\\nnov. 28, 2022 5:37:15 PM org.apache.fop.events.LoggingEventListener processEvent\\r\\nINFOS: Rendered page #38.\\r\\nnov. 28, 2022 5:37:15 PM org.apache.fop.events.LoggingEventListener processEvent\\r\\nINFOS: Rendered page #39.\\r\\nnov. 28, 2022 5:37:15 PM org.apache.fop.events.LoggingEventListener processEvent\\r\\nINFOS: Rendered page #40.\\r\\nnov. 28, 2022 5:37:15 PM org.apache.fop.events.LoggingEventListener processEvent\\r\\nINFOS: Rendered page #41.\\r\\nnov. 28, 2022 5:37:15 PM org.apache.fop.events.LoggingEventListener processEvent\\r\\nINFOS: Rendered page #42.\\r\\nnov. 28, 2022 5:37:15 PM org.apache.fop.events.LoggingEventListener processEvent\\r\\nINFOS: Rendered page #43.\\r\\nnov. 28, 2022 5:37:15 PM org.apache.fop.events.LoggingEventListener processEvent\\r\\nINFOS: Rendered page #44.\\r\\nnov. 28, 2022 5:37:15 PM org.apache.fop.events.LoggingEventListener processEvent\\r\\nINFOS: Rendered page #45.\\r\\nnov. 28, 2022 5:37:15 PM org.apache.fop.events.LoggingEventListener processEvent\\r\\nINFOS: Rendered page #46.\\r\\nnov. 28, 2022 5:37:15 PM org.apache.fop.events.LoggingEventListener processEvent\\r\\nINFOS: Rendered page #47.\\r\\nnov. 28, 2022 5:37:15 PM org.apache.fop.events.LoggingEventListener processEvent\\r\\nINFOS: Rendered page #48.\\r\\nnov. 28, 2022 5:37:15 PM org.apache.fop.events.LoggingEventListener processEvent\\r\\nINFOS: Rendered page #49.\\r\\nnov. 28, 2022 5:37:15 PM org.apache.fop.events.LoggingEventListener processEvent\\r\\nINFOS: Rendered page #50.\\r\\nnov. 28, 2022 5:37:15 PM org.apache.fop.events.LoggingEventListener processEvent\\r\\nINFOS: Rendered page #51.\\r\\nnov. 28, 2022 5:37:15 PM org.apache.fop.events.LoggingEventListener processEvent\\r\\nINFOS: Rendered page #52.\\r\\nnov. 28, 2022 5:37:15 PM org.apache.fop.events.LoggingEventListener processEvent\\r\\nINFOS: Rendered page #53.\\r\\nnov. 28, 2022 5:37:15 PM org.apache.fop.events.LoggingEventListener processEvent\\r\\nINFOS: Rendered page #54.\\r\\nnov. 28, 2022 5:37:15 PM org.apache.fop.events.LoggingEventListener processEvent\\r\\nINFOS: Rendered page #55.\\r\\nnov. 28, 2022 5:37:15 PM org.apache.fop.events.LoggingEventListener processEvent\\r\\nINFOS: Rendered page #56.\\r\\nnov. 28, 2022 5:37:15 PM org.apache.fop.events.LoggingEventListener processEvent\\r\\nINFOS: Rendered page #57.\\r\\nnov. 28, 2022 5:37:15 PM org.apache.fop.events.LoggingEventListener processEvent\\r\\nINFOS: Rendered page #58.\\r\\nnov. 28, 2022 5:37:15 PM org.apache.fop.events.LoggingEventListener processEvent\\r\\nINFOS: Rendered page #59.\\r\\nnov. 28, 2022 5:37:15 PM org.apache.fop.events.LoggingEventListener processEvent\\r\\nINFOS: Rendered page #60.\\r\\nnov. 28, 2022 5:37:15 PM org.apache.fop.events.LoggingEventListener processEvent\\r\\nINFOS: Rendered page #61.\\r\\nnov. 28, 2022 5:37:15 PM org.apache.fop.events.LoggingEventListener processEvent\\r\\nINFOS: Rendered page #62.\\r\\nnov. 28, 2022 5:37:15 PM org.apache.fop.events.LoggingEventListener processEvent\\r\\nINFOS: Rendered page #63.\\r\\nnov. 28, 2022 5:37:15 PM org.apache.fop.events.LoggingEventListener processEvent\\r\\nINFOS: Rendered page #64.\\r\\nnov. 28, 2022 5:37:15 PM org.apache.fop.events.LoggingEventListener processEvent\\r\\nINFOS: Rendered page #65.\\r\\nnov. 28, 2022 5:37:15 PM org.apache.fop.events.LoggingEventListener processEvent\\r\\nINFOS: Rendered page #66.\\r\\nnov. 28, 2022 5:37:15 PM org.apache.fop.events.LoggingEventListener processEvent\\r\\nINFOS: Rendered page #67.\\r\\nnov. 28, 2022 5:37:15 PM org.apache.fop.events.LoggingEventListener processEvent\\r\\nINFOS: Rendered page #68.\\r\\nnov. 28, 2022 5:37:15 PM org.apache.fop.events.LoggingEventListener processEvent\\r\\nINFOS: Rendered page #69.\\r\\nnov. 28, 2022 5:37:15 PM org.apache.fop.events.LoggingEventListener processEvent\\r\\nINFOS: Rendered page #70.\\r\\nnov. 28, 2022 5:37:15 PM org.apache.fop.events.LoggingEventListener processEvent\\r\\nINFOS: Rendered page #71.\\r\\nnov. 28, 2022 5:37:15 PM org.apache.fop.events.LoggingEventListener processEvent\\r\\nINFOS: Rendered page #72.\\r\\nnov. 28, 2022 5:37:15 PM org.apache.fop.events.LoggingEventListener processEvent\\r\\nINFOS: Rendered page #73.\\r\\nnov. 28, 2022 5:37:15 PM org.apache.fop.events.LoggingEventListener processEvent\\r\\nINFOS: Rendered page #74.\\r\\nnov. 28, 2022 5:37:15 PM org.apache.fop.events.LoggingEventListener processEvent\\r\\nINFOS: Rendered page #75.\\r\\nnov. 28, 2022 5:37:15 PM org.apache.fop.events.LoggingEventListener processEvent\\r\\nINFOS: Rendered page #76.\\r\\nnov. 28, 2022 5:37:15 PM org.apache.fop.events.LoggingEventListener processEvent\\r\\nINFOS: Rendered page #77.\\r\\nnov. 28, 2022 5:37:15 PM org.apache.fop.events.LoggingEventListener processEvent\\r\\nINFOS: Rendered page #78.\\r\\nnov. 28, 2022 5:37:15 PM org.apache.fop.events.LoggingEventListener processEvent\\r\\nINFOS: Rendered page #79.\\r\\nnov. 28, 2022 5:37:15 PM org.apache.fop.events.LoggingEventListener processEvent\\r\\nINFOS: Rendered page #80.\\r\\nnov. 28, 2022 5:37:15 PM org.apache.fop.events.LoggingEventListener processEvent\\r\\nINFOS: Rendered page #81.\\r\\nnov. 28, 2022 5:37:15 PM org.apache.fop.events.LoggingEventListener processEvent\\r\\nINFOS: Rendered page #82.\\r\\nnov. 28, 2022 5:37:15 PM org.apache.fop.events.LoggingEventListener processEvent\\r\\nINFOS: Rendered page #83.\\r\\nnov. 28, 2022 5:37:15 PM org.apache.fop.events.LoggingEventListener processEvent\\r\\nINFOS: Rendered page #84.\\r\\nnov. 28, 2022 5:37:15 PM org.apache.fop.events.LoggingEventListener processEvent\\r\\nINFOS: Rendered page #85.\\r\\nnov. 28, 2022 5:37:15 PM org.apache.fop.events.LoggingEventListener processEvent\\r\\nINFOS: Rendered page #86.\\r\\nnov. 28, 2022 5:37:15 PM org.apache.fop.events.LoggingEventListener processEvent\\r\\nINFOS: Rendered page #87.\\r\\nnov. 28, 2022 5:37:15 PM org.apache.fop.events.LoggingEventListener processEvent\\r\\nINFOS: Rendered page #88.\\r\\nnov. 28, 2022 5:37:15 PM org.apache.fop.events.LoggingEventListener processEvent\\r\\nINFOS: Rendered page #89.\\r\\nnov. 28, 2022 5:37:15 PM org.apache.fop.events.LoggingEventListener processEvent\\r\\nINFOS: Rendered page #90.\\r\\nnov. 28, 2022 5:37:15 PM org.apache.fop.events.LoggingEventListener processEvent\\r\\nINFOS: Rendered page #91.\\r\\nnov. 28, 2022 5:37:15 PM org.apache.fop.events.LoggingEventListener processEvent\\r\\nINFOS: Rendered page #92.\\r\\nnov. 28, 2022 5:37:15 PM org.apache.fop.events.LoggingEventListener processEvent\\r\\nINFOS: Rendered page #93.\\r\\nnov. 28, 2022 5:37:15 PM org.apache.fop.events.LoggingEventListener processEvent\\r\\nINFOS: Rendered page #94.\\r\\n')"
      ]
     },
     "execution_count": 4,
     "metadata": {},
     "output_type": "execute_result"
    }
   ],
   "source": [
    "file_name = \"question-6\"\n",
    "use_template(file_name, {\"nom1\": 'Tristan Boucansaud', \"nom2\": 'Ugo Insalaco'})\n",
    "run_fop(file_name)"
   ]
  },
  {
   "cell_type": "markdown",
   "metadata": {},
   "source": [
    "__Q7. Commentaires :__\n",
    "<div style=\"background-color:#eef;padding:10px;border-radius:3px\">\n",
    "Faire figurer les commentaires non vides là aussi dans l'ordre du calendrier.\n",
    "</div>\n",
    "\n",
    "Les documents demandés seront nommés\n",
    "<a href=\"question-7.xsl\"><tt>question-7.xsl</tt></a>,\n",
    "<a href=\"question-7.fo\"><tt>question-7.fo</tt></a> et\n",
    "<a href=\"question-7.pdf\"><tt>question-7.pdf</tt></a>."
   ]
  },
  {
   "cell_type": "code",
   "execution_count": 7,
   "metadata": {
    "util.bundle": "correcteur"
   },
   "outputs": [],
   "source": [
    "file_name = \"question-7\"\n",
    "use_template(file_name)\n",
    "run_fop(file_name)"
   ]
  },
  {
   "cell_type": "markdown",
   "metadata": {},
   "source": [
    "__Q8. Améliorer <i>ad libitum</i> :__\n",
    "<div style=\"background-color:#eef;padding:10px;border-radius:3px\">\n",
    "Numéroter les pages, ajouter un graphique SVG par couple gare de départ / gare d'arrivée,\n",
    "créer un sommaire cliquable renvoyant directement à la page concernée...\n",
    "</div>\n",
    "\n",
    "Les documents demandés seront nommés\n",
    "<a href=\"question-8.xsl\"><tt>question-8.xsl</tt></a>,\n",
    "<a href=\"question-8.fo\"><tt>question-8.fo</tt></a> et\n",
    "<a href=\"question-8.pdf\"><tt>question-8.pdf</tt></a>."
   ]
  },
  {
   "cell_type": "code",
   "execution_count": 8,
   "metadata": {
    "scrolled": true,
    "util.bundle": "correcteur"
   },
   "outputs": [],
   "source": [
    "file_name = \"question-8\"\n",
    "use_template(file_name)\n",
    "run_fop(file_name)"
   ]
  },
  {
   "cell_type": "code",
   "execution_count": 9,
   "metadata": {
    "collapsed": true
   },
   "outputs": [],
   "source": []
  }
 ],
 "metadata": {
  "kernelspec": {
   "display_name": "Python 3 (ipykernel)",
   "language": "python",
   "name": "python3"
  },
  "language_info": {
   "codemirror_mode": {
    "name": "ipython",
    "version": 3
   },
   "file_extension": ".py",
   "mimetype": "text/x-python",
   "name": "python",
   "nbconvert_exporter": "python",
   "pygments_lexer": "ipython3",
   "version": "3.9.7"
  }
 },
 "nbformat": 4,
 "nbformat_minor": 2
}
