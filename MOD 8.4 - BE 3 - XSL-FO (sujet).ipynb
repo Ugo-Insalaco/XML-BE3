{
 "cells": [
  {
   "cell_type": "markdown",
   "metadata": {},
   "source": [
    "# <center>MOD 8.4 - Représentation et manipulation de données structurées - BE 3</center>\n",
    "\n",
    "## <center style=\"color: #66d\">Transformation XSLT, format XSL-FO, et document pdf.</center>\n",
    "\n",
    "### 1. Informations générales\n",
    "\n",
    "#### 1.1 Déroulement de la séance\n",
    "\n",
    "Comme pour les séances précédentes, ce travail est à effectuer par binômes. Les binômes peuvent être les mêmes que pour l'un des BE précédents ou être recomposés pour l'occasion.\n",
    "\n",
    "Les livrables qui vous seront demandés pour ce BE devront encore une fois être zippés _(format zip uniquement - toujours pas de formats de compression exotiques)_ et déposés sur la plateforme pédagogique dans la zone de rendu, dans l'espace réservé au BE n°3 sur le serveur moodle.\n",
    "\n",
    "#### 1.2 Compte-rendu\n",
    "\n",
    "Le compte-rendu sera fait comme d'habitude au format jupyter notebook.\n",
    "Il devra évidemment comporter tous les liens nécessaires pour consulter les documents réalisés _(cf. questions suivantes)_ sous tous les aspects pertinents _(code source, validation, transformation...)_. Seuls les documents accessibles sous forme de liens depuis le compte-rendu seront pris en compte lors de la correction.\n",
    "\n",
    "#### 1.3 Forme des documents produits.\n",
    "\n",
    "Le degré de finition des documents demandés devra correspondre à des standards professionnels."
   ]
  },
  {
   "cell_type": "markdown",
   "metadata": {},
   "source": [
    "### 2. Prise en main de XSL-FO et installation de Apache fop\n",
    "\n",
    "Le travail demandé au cours de ce BE consiste à transformer les documents XML fournis pour obtenir d'abord un document XSL-FO à l'aide d'une feuille de style XSLT, puis un rapport papier au format <tt>pdf</tt> à l'aide de l'outil \"fop\" (Apache Formatting Objects Processor).\n",
    "\n",
    "#### 2.1 Prise en main de XSL-FO.\n",
    "\n",
    "Consulter le <a href=\"http://dmolinarius.github.io/demofiles/mod-84/xslfo.pdf\">cours sur XSL-FO</a>, puis :\n",
    "\n",
    "__Q1. Développer une première feuille de style XSL-FO :__\n",
    "<div style=\"background-color:#d8d8ff;padding:10px;border-radius:3px\">\n",
    "Créer une feuille de style XSLT nommée <a href=\"question-1.xsl\"><tt>question-1.xsl</tt></a> qui transforme n'importe quel document XML en un document XSL-FO (toujours le même, quel que soit le contenu du document XML transformé) contenant le message \"hello, world\".\n",
    "</div>"
   ]
  },
  {
   "cell_type": "markdown",
   "metadata": {},
   "source": [
    "\n",
    "__Q2. Créer un premier document XSL-FO :__\n",
    "<div style=\"background-color:#d8d8ff;padding:10px;border-radius:3px\">\n",
    "Implémenter la transformation XSLT d'un document XML via votre feuille de style, à l'aide d'un programme de votre choix (suggestion : python via le présent notebook) et admirer le résultat obtenu dans un fichier qui sera nommé <a href=\"question-1.fo\"><tt>question-1.fo</tt></a>\n",
    "</div>"
   ]
  },
  {
   "cell_type": "code",
   "execution_count": 3,
   "metadata": {
    "util.bundle": "correcteur"
   },
   "outputs": [],
   "source": [
    "import lxml.etree as etree\n",
    "from io import StringIO as StringIO"
   ]
  },
  {
   "cell_type": "code",
   "execution_count": 54,
   "metadata": {},
   "outputs": [],
   "source": [
    "def use_template(file_name, params = {}):\n",
    "    xsl_template = \"\"\n",
    "    xsl = f\"{file_name}.xsl\"\n",
    "    fo = f\"{file_name}.fo\"\n",
    "    \n",
    "    with open(xsl, newline = '', encoding = 'UTF-8') as f:\n",
    "        xsl_template = f.read()\n",
    "\n",
    "    xslt_root = etree.XML(bytes(xsl_template, \"utf-8\"))\n",
    "\n",
    "    with open(\"./regularite-mensuelle-tgv.xml\", newline = '', encoding = 'UTF-8') as f:\n",
    "        xml_file = f.read()\n",
    "\n",
    "    transform = etree.XSLT(xslt_root)\n",
    "    xml_parsed = etree.parse(StringIO(xml_file))\n",
    "    \n",
    "    for (key, value) in params.items():\n",
    "        params[key] = etree.XSLT.strparam(value)\n",
    "        \n",
    "    fo_file = transform(xml_parsed, **params)\n",
    "    fo_file.write_output(fo) "
   ]
  },
  {
   "cell_type": "code",
   "execution_count": 23,
   "metadata": {},
   "outputs": [],
   "source": [
    "use_template(\"question-1\")"
   ]
  },
  {
   "cell_type": "markdown",
   "metadata": {},
   "source": [
    "#### 2.2 Installation et utilisation de Apache FOP.\n",
    "\n",
    "__Q3. Obtenir un document pdf :__\n",
    "<div style=\"background-color:#eef;padding:10px;border-radius:3px\">\n",
    "Installer <a href=\"https://xmlgraphics.apache.org/fop/\">Apache FOP</a> et transformer le document <tt>question-1.fo</tt> pour obtenir <a href=\"question-1.pdf\"><tt>question-1.pdf</tt></a>.\n",
    "</div>\n",
    "\n",
    "Exemple de fonction réalisant la transformation depuis le notebook :"
   ]
  },
  {
   "cell_type": "code",
   "execution_count": 10,
   "metadata": {},
   "outputs": [
    {
     "name": "stdout",
     "output_type": "stream",
     "text": [
      "nov. 28, 2022 3:47:36 PM org.apache.fop.apps.FopConfParser configure\r\n",
      "INFOS: Default page-height set to: 11.00in\r\n",
      "nov. 28, 2022 3:47:36 PM org.apache.fop.apps.FopConfParser configure\r\n",
      "INFOS: Default page-width set to: 8.50in\r\n",
      "nov. 28, 2022 3:47:37 PM org.apache.fop.events.LoggingEventListener processEvent\r\n",
      "INFOS: Rendered page #1.\r\n",
      "\n"
     ]
    }
   ],
   "source": [
    "# fonction pour lancer la transformation fop\n",
    "def run_fop(filename):\n",
    "    import sys\n",
    "    import os.path\n",
    "    import subprocess\n",
    "\n",
    "    # nom des fichiers\n",
    "    fo = \"{}.fo\".format(filename)\n",
    "    pdf =\"{}.pdf\".format(filename)\n",
    "\n",
    "    # le fichier .fo n'existe pas\n",
    "    if not os.path.isfile(fo):\n",
    "        print(\"Could not find {}\".format(fo))\n",
    "        return None\n",
    "\n",
    "    # appel de fop (ajuster éventuellement le chemin d'accès à l'exécutable et au fichier de configuration)\n",
    "    args = [\"fop\", \"-c\", \"C:\\Program Files (x86)\\\\fop-2.8\\\\fop\\\\conf\\\\fop.xconf\", fo, pdf]\n",
    "    return subprocess.run(args,shell=True,stderr=subprocess.PIPE)\n",
    "    \n",
    "# On effectue la transformation\n",
    "r = run_fop('question-1')\n",
    "print(r.stderr.decode('iso-8859-1'))"
   ]
  },
  {
   "cell_type": "code",
   "execution_count": 11,
   "metadata": {},
   "outputs": [
    {
     "name": "stdout",
     "output_type": "stream",
     "text": [
      "FOP Version 2.8\n"
     ]
    }
   ],
   "source": [
    "# Test si fop est bien installé, et que l'interpréteur de commandes sait où le trouver\n",
    "!fop -version"
   ]
  },
  {
   "cell_type": "code",
   "execution_count": 12,
   "metadata": {},
   "outputs": [
    {
     "name": "stderr",
     "output_type": "stream",
     "text": [
      "nov. 28, 2022 3:47:59 PM org.apache.fop.events.LoggingEventListener processEvent\n",
      "INFOS: Rendered page #1.\n"
     ]
    }
   ],
   "source": [
    "# Méthode alternative pour lancer fop\n",
    "!fop question-1.fo question-1.pdf"
   ]
  },
  {
   "cell_type": "markdown",
   "metadata": {},
   "source": [
    "### 3. Création d'un rapport\n",
    "\n",
    "Maintenant que la chaîne de production est maîtrisée, l'objectif sera de créer un rapport au format <tt>pdf</tt>, à partir \n",
    "du document <a href=\"regularite-mensuelle-tgv.xml\"><tt>regularite-mensuelle-tgv.xml</tt></a> fourni avec le sujet, dont la structure générale est la suivante :"
   ]
  },
  {
   "cell_type": "raw",
   "metadata": {},
   "source": [
    "<regularite-tgv>\n",
    "  <axe nom=\"Nord\">\n",
    "    <gare-depart nom=\"PARIS NORD\">\n",
    "      <gare-arrivee nom=\"DOUAI\">\n",
    "        <mesure annee=\"2014\" mois=\"03\" trains-prevus=\"196\" trains-ok=\"196\" annules=\"0\" retards=\"11\" regularite=\"94.4\" commentaire=\"\"/>\n",
    "        ...\n",
    "      </gare-arrivee>\n",
    "      ...\n",
    "    </gare-depart>\n",
    "    ...\n",
    "  </axe>\n",
    "</regularite-tgv>\n",
    "      \n",
    "        "
   ]
  },
  {
   "cell_type": "markdown",
   "metadata": {},
   "source": [
    "__Q4. Liste des axes :__\n",
    "<div style=\"background-color:#eef;padding:10px;border-radius:3px\">\n",
    "Développer une feuille de style XSL qui transforme ce document de manière à obtenir un document <tt>pdf</tt> listant le nom des axes sous forme de titres.\n",
    "</div>\n",
    "\n",
    "On nommera respectivement les documents demandés\n",
    "<a href=\"question-4.xsl\"><tt>question-4.xsl</tt></a>,\n",
    "<a href=\"question-4.fo\"><tt>question-4.fo</tt></a> et\n",
    "<a href=\"question-4.pdf\"><tt>question-4.pdf</tt></a>."
   ]
  },
  {
   "cell_type": "code",
   "execution_count": 21,
   "metadata": {
    "scrolled": false,
    "util.bundle": "correcteur"
   },
   "outputs": [
    {
     "data": {
      "text/plain": [
       "CompletedProcess(args=['fop', '-c', 'C:\\\\Program Files (x86)\\\\fop-2.8\\\\fop\\\\conf\\\\fop.xconf', 'question-4.fo', 'question-4.pdf'], returncode=0, stderr=b'nov. 28, 2022 4:16:08 PM org.apache.fop.apps.FopConfParser configure\\r\\nINFOS: Default page-height set to: 11.00in\\r\\nnov. 28, 2022 4:16:08 PM org.apache.fop.apps.FopConfParser configure\\r\\nINFOS: Default page-width set to: 8.50in\\r\\nnov. 28, 2022 4:16:09 PM org.apache.fop.events.LoggingEventListener processEvent\\r\\nAVERTISSEMENT: Font \"Symbol,normal,700\" not found. Substituting with \"Symbol,normal,400\".\\r\\nnov. 28, 2022 4:16:09 PM org.apache.fop.events.LoggingEventListener processEvent\\r\\nAVERTISSEMENT: Font \"ZapfDingbats,normal,700\" not found. Substituting with \"ZapfDingbats,normal,400\".\\r\\nnov. 28, 2022 4:16:09 PM org.apache.fop.events.LoggingEventListener processEvent\\r\\nINFOS: Rendered page #1.\\r\\n')"
      ]
     },
     "execution_count": 21,
     "metadata": {},
     "output_type": "execute_result"
    }
   ],
   "source": [
    "file_name = \"question-4\"\n",
    "use_template(file_name)\n",
    "run_fop(file_name)"
   ]
  },
  {
   "cell_type": "markdown",
   "metadata": {},
   "source": [
    "__Q5. Page de titre :__\n",
    "<div style=\"background-color:#eef;padding:10px;border-radius:3px\">\n",
    "Ajouter une page de titre. En profiter pour mentionner vos noms. Noter qu'il est en général possible de passer des variables au moteur XSLT\n",
    "(cf. <a href=\"http://lxml.de/xpathxslt.html#stylesheet-parameters\">lxml</a>),\n",
    "ce qui peut faciliter entre autres l'affichage de la date d'impression.\n",
    "</div>\n",
    "\n",
    "Les documents demandés seront nommés\n",
    "<a href=\"question-5.xsl\"><tt>question-5.xsl</tt></a>,\n",
    "<a href=\"question-5.fo\"><tt>question-5.fo</tt></a> et\n",
    "<a href=\"question-5.pdf\"><tt>question-5.pdf</tt></a>."
   ]
  },
  {
   "cell_type": "code",
   "execution_count": 55,
   "metadata": {
    "util.bundle": "correcteur"
   },
   "outputs": [
    {
     "data": {
      "text/plain": [
       "CompletedProcess(args=['fop', '-c', 'C:\\\\Program Files (x86)\\\\fop-2.8\\\\fop\\\\conf\\\\fop.xconf', 'question-5.fo', 'question-5.pdf'], returncode=0, stderr=b'nov. 28, 2022 4:43:39 PM org.apache.fop.apps.FopConfParser configure\\r\\nINFOS: Default page-height set to: 11.00in\\r\\nnov. 28, 2022 4:43:39 PM org.apache.fop.apps.FopConfParser configure\\r\\nINFOS: Default page-width set to: 8.50in\\r\\nnov. 28, 2022 4:43:39 PM org.apache.fop.events.LoggingEventListener processEvent\\r\\nAVERTISSEMENT: Font \"Symbol,normal,700\" not found. Substituting with \"Symbol,normal,400\".\\r\\nnov. 28, 2022 4:43:39 PM org.apache.fop.events.LoggingEventListener processEvent\\r\\nAVERTISSEMENT: Font \"ZapfDingbats,normal,700\" not found. Substituting with \"ZapfDingbats,normal,400\".\\r\\nnov. 28, 2022 4:43:39 PM org.apache.fop.events.LoggingEventListener processEvent\\r\\nINFOS: Rendered page #1.\\r\\nnov. 28, 2022 4:43:39 PM org.apache.fop.events.LoggingEventListener processEvent\\r\\nINFOS: Rendered page #2.\\r\\n')"
      ]
     },
     "execution_count": 55,
     "metadata": {},
     "output_type": "execute_result"
    }
   ],
   "source": [
    "file_name = \"question-5\"\n",
    "use_template(file_name, {\"nom1\": 'Tristan Boucansaud', \"nom2\": 'Ugo Insalaco'})\n",
    "run_fop(file_name)"
   ]
  },
  {
   "cell_type": "markdown",
   "metadata": {},
   "source": [
    "__Q6. Statistiques :__\n",
    "<div style=\"background-color:#eef;padding:10px;border-radius:3px\">\n",
    "Pour chacun des couples gare de départ / gare d'arrivée, créer un tableau avec les statistiques de la ligne, en évitant que les tableaux puissent être coupés par un saut de page. Ne pas oublier d'afficher les statistiques dans l'ordre du calendrier, et non pas dans l'ordre du document source...\n",
    "</div>\n",
    "\n",
    "Les documents demandés seront nommés\n",
    "<a href=\"question-6.xsl\"><tt>question-6.xsl</tt></a>,\n",
    "<a href=\"question-6.fo\"><tt>question-6.fo</tt></a> et\n",
    "<a href=\"question-6.pdf\"><tt>question-6.pdf</tt></a>."
   ]
  },
  {
   "cell_type": "code",
   "execution_count": 69,
   "metadata": {
    "util.bundle": "correcteur"
   },
   "outputs": [
    {
     "ename": "XMLSyntaxError",
     "evalue": "Opening and ending tag mismatch: block line 64 and table-cell, line 64, column 131 (<string>, line 64)",
     "output_type": "error",
     "traceback": [
      "Traceback \u001b[1;36m(most recent call last)\u001b[0m:\n",
      "  File \u001b[0;32m\"C:\\Users\\user\\anaconda3\\lib\\site-packages\\IPython\\core\\interactiveshell.py\"\u001b[0m, line \u001b[0;32m3444\u001b[0m, in \u001b[0;35mrun_code\u001b[0m\n    exec(code_obj, self.user_global_ns, self.user_ns)\n",
      "  File \u001b[0;32m\"C:\\Users\\user\\AppData\\Local\\Temp/ipykernel_4468/2041205857.py\"\u001b[0m, line \u001b[0;32m2\u001b[0m, in \u001b[0;35m<module>\u001b[0m\n    use_template(file_name, {\"nom1\": 'Tristan Boucansaud', \"nom2\": 'Ugo Insalaco'})\n",
      "  File \u001b[0;32m\"C:\\Users\\user\\AppData\\Local\\Temp/ipykernel_4468/2792080824.py\"\u001b[0m, line \u001b[0;32m9\u001b[0m, in \u001b[0;35muse_template\u001b[0m\n    xslt_root = etree.XML(bytes(xsl_template, \"utf-8\"))\n",
      "  File \u001b[0;32m\"src/lxml/etree.pyx\"\u001b[0m, line \u001b[0;32m3216\u001b[0m, in \u001b[0;35mlxml.etree.XML\u001b[0m\n",
      "  File \u001b[0;32m\"src/lxml/parser.pxi\"\u001b[0m, line \u001b[0;32m1896\u001b[0m, in \u001b[0;35mlxml.etree._parseMemoryDocument\u001b[0m\n",
      "  File \u001b[0;32m\"src/lxml/parser.pxi\"\u001b[0m, line \u001b[0;32m1784\u001b[0m, in \u001b[0;35mlxml.etree._parseDoc\u001b[0m\n",
      "  File \u001b[0;32m\"src/lxml/parser.pxi\"\u001b[0m, line \u001b[0;32m1141\u001b[0m, in \u001b[0;35mlxml.etree._BaseParser._parseDoc\u001b[0m\n",
      "  File \u001b[0;32m\"src/lxml/parser.pxi\"\u001b[0m, line \u001b[0;32m615\u001b[0m, in \u001b[0;35mlxml.etree._ParserContext._handleParseResultDoc\u001b[0m\n",
      "  File \u001b[0;32m\"src/lxml/parser.pxi\"\u001b[0m, line \u001b[0;32m725\u001b[0m, in \u001b[0;35mlxml.etree._handleParseResult\u001b[0m\n",
      "\u001b[1;36m  File \u001b[1;32m\"src/lxml/parser.pxi\"\u001b[1;36m, line \u001b[1;32m654\u001b[1;36m, in \u001b[1;35mlxml.etree._raiseParseError\u001b[1;36m\u001b[0m\n",
      "\u001b[1;36m  File \u001b[1;32m\"<string>\"\u001b[1;36m, line \u001b[1;32m64\u001b[0m\n\u001b[1;31mXMLSyntaxError\u001b[0m\u001b[1;31m:\u001b[0m Opening and ending tag mismatch: block line 64 and table-cell, line 64, column 131\n"
     ]
    }
   ],
   "source": [
    "file_name = \"question-6\"\n",
    "use_template(file_name, {\"nom1\": 'Tristan Boucansaud', \"nom2\": 'Ugo Insalaco'})\n",
    "run_fop(file_name)"
   ]
  },
  {
   "cell_type": "markdown",
   "metadata": {},
   "source": [
    "__Q7. Commentaires :__\n",
    "<div style=\"background-color:#eef;padding:10px;border-radius:3px\">\n",
    "Faire figurer les commentaires non vides là aussi dans l'ordre du calendrier.\n",
    "</div>\n",
    "\n",
    "Les documents demandés seront nommés\n",
    "<a href=\"question-7.xsl\"><tt>question-7.xsl</tt></a>,\n",
    "<a href=\"question-7.fo\"><tt>question-7.fo</tt></a> et\n",
    "<a href=\"question-7.pdf\"><tt>question-7.pdf</tt></a>."
   ]
  },
  {
   "cell_type": "code",
   "execution_count": 7,
   "metadata": {
    "util.bundle": "correcteur"
   },
   "outputs": [],
   "source": [
    "file_name = \"question-7\"\n",
    "use_template(file_name)\n",
    "run_fop(file_name)"
   ]
  },
  {
   "cell_type": "markdown",
   "metadata": {},
   "source": [
    "__Q8. Améliorer <i>ad libitum</i> :__\n",
    "<div style=\"background-color:#eef;padding:10px;border-radius:3px\">\n",
    "Numéroter les pages, ajouter un graphique SVG par couple gare de départ / gare d'arrivée,\n",
    "créer un sommaire cliquable renvoyant directement à la page concernée...\n",
    "</div>\n",
    "\n",
    "Les documents demandés seront nommés\n",
    "<a href=\"question-8.xsl\"><tt>question-8.xsl</tt></a>,\n",
    "<a href=\"question-8.fo\"><tt>question-8.fo</tt></a> et\n",
    "<a href=\"question-8.pdf\"><tt>question-8.pdf</tt></a>."
   ]
  },
  {
   "cell_type": "code",
   "execution_count": 8,
   "metadata": {
    "scrolled": true,
    "util.bundle": "correcteur"
   },
   "outputs": [],
   "source": [
    "file_name = \"question-8\"\n",
    "use_template(file_name)\n",
    "run_fop(file_name)"
   ]
  },
  {
   "cell_type": "code",
   "execution_count": 9,
   "metadata": {
    "collapsed": true
   },
   "outputs": [],
   "source": []
  }
 ],
 "metadata": {
  "kernelspec": {
   "display_name": "Python 3 (ipykernel)",
   "language": "python",
   "name": "python3"
  },
  "language_info": {
   "codemirror_mode": {
    "name": "ipython",
    "version": 3
   },
   "file_extension": ".py",
   "mimetype": "text/x-python",
   "name": "python",
   "nbconvert_exporter": "python",
   "pygments_lexer": "ipython3",
   "version": "3.9.7"
  }
 },
 "nbformat": 4,
 "nbformat_minor": 2
}
